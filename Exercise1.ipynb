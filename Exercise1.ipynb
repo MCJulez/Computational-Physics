{
 "cells": [
  {
   "cell_type": "markdown",
   "metadata": {},
   "source": [
    "# Homework 1: Numerical Integration (20 points)\n",
    "\n",
    "Group Members: Julius Franke (el442, juliusttf@gmail.com), Erik Meister (kd400, erik.meister@me.com), Eugen Dizer (qo452, eugen9898@web.de)\n",
    "\n",
    "Due on Friday, 01.05.2020."
   ]
  },
  {
   "cell_type": "code",
   "execution_count": 1,
   "metadata": {
    "collapsed": true
   },
   "outputs": [],
   "source": [
    "#Load standard libraries\n",
    "import numpy as np   \n",
    "import matplotlib.pyplot as plt   \n",
    "%matplotlib inline"
   ]
  },
  {
   "cell_type": "markdown",
   "metadata": {},
   "source": [
    "## Introduction\n",
    "\n",
    "In this exercise we will numerically evaluate the integral\n",
    "\n",
    "$$ y_n = y_n(a) = \\int_0^1 \\left( \\frac{x^n}{x+a} \\right) dx = \\frac{1}{n} - a y_{n-1} .$$"
   ]
  },
  {
   "cell_type": "markdown",
   "metadata": {},
   "source": [
    "### a)  Plot the integrand for $a = 5$ and $n = 1, 5, 10, 20, 30, 50$ in the domain $0 \\leq x \\leq 1$."
   ]
  },
  {
   "cell_type": "code",
   "execution_count": 2,
   "metadata": {
    "collapsed": false
   },
   "outputs": [
    {
     "data": {
      "image/png": "[encoded data removed]",
      "text/plain": [
       "<matplotlib.figure.Figure at 0x22750b1db70>"
      ]
     },
     "metadata": {},
     "output_type": "display_data"
    }
   ],
   "source": [
    "#Variables\n",
    "a = 5\n",
    "n = np.array([1, 5, 10, 20, 30, 50])\n",
    "x = np.linspace(0,1,100)\n",
    "\n",
    "#Define function\n",
    "def integrand(x,n):\n",
    "    return x**n/(x+a)\n",
    "\n",
    "#Create a plot for each value in array n from blue to brown\n",
    "for nval in n:\n",
    "    plt.plot(x, integrand(x, nval))"
   ]
  },
  {
   "cell_type": "markdown",
   "metadata": {},
   "source": [
    "### b) Write a computer program that reads the value of $a$, the starting values $n_0$ and $y_0$, and the final value $n_1$, and performs the iteration from $n_0$ to $n_1$ (either backward or forward, depending on whether $n_1 < n_0$ or $n_0 < n_1$)."
   ]
  },
  {
   "cell_type": "code",
   "execution_count": 3,
   "metadata": {
    "collapsed": false
   },
   "outputs": [
    {
     "name": "stdout",
     "output_type": "stream",
     "text": [
      "-36668.8030261\n"
     ]
    }
   ],
   "source": [
    "#Read the value of a, n_0, y_0 and n_1\n",
    "a = 5\n",
    "n0 = 0\n",
    "n1 = 30\n",
    "y0 = np.log((1+a)/a)\n",
    "\n",
    "#Function that returns y_n dependent on y_{n-1}\n",
    "def yn_forward(a,n,y):\n",
    "    return 1/n - a * y\n",
    "\n",
    "#Function that returns y_{n-1} dependent on y_n\n",
    "def yn_backward(a,n,y):\n",
    "    return 1/(n*a) - y/a\n",
    "\n",
    "#Final function that performs the iterations from n_0 to n_1\n",
    "y = y0\n",
    "def yn(a,n0,n1,y):\n",
    "    if n0 < n1: #perform the forward iteration\n",
    "        for i in range(n0,n1):\n",
    "            y = yn_forward(a,i+1,y)\n",
    "        return y\n",
    "    if n0 == n1: #no iteration, return y_0\n",
    "        return y\n",
    "    if n0 > n1: #perform the backward iteration\n",
    "        for i in range(n1,n0): \n",
    "            y = yn_backward(a,n0-(i-n1),y)\n",
    "        return y\n",
    "        \n",
    "print(yn(a,n0,n1,y0))"
   ]
  },
  {
   "cell_type": "markdown",
   "metadata": {},
   "source": [
    "### c) Experiment how this series behaves for iterations from $n_0 = 0$ to $n_1 = 30$ for $y_0 =\\ln[(1 + a)/a]$ with $a = 5$. Also try starting with $n_0 = 50$ and iterate back to $n_1 = 30$ for any starting value $y_0$."
   ]
  },
  {
   "cell_type": "code",
   "execution_count": 4,
   "metadata": {
    "collapsed": false
   },
   "outputs": [
    {
     "name": "stdout",
     "output_type": "stream",
     "text": [
      "-36668.8030261\n"
     ]
    }
   ],
   "source": [
    "#Read the value of a, n_0, y_0 and n_1\n",
    "a = 5\n",
    "n0 = 0\n",
    "n1 = 30\n",
    "y0 = np.log((1+a)/a)\n",
    "        \n",
    "print(yn(a,n0,n1,y0))"
   ]
  },
  {
   "cell_type": "markdown",
   "metadata": {},
   "source": [
    "### Summary of the results:\n",
    "\n",
    "- The series diverges for the forward iteration when $a > 1$.\n",
    "- It yields unreasonable results, since $y_n$ should never get negative!"
   ]
  },
  {
   "cell_type": "code",
   "execution_count": 5,
   "metadata": {
    "collapsed": false
   },
   "outputs": [
    {
     "name": "stdout",
     "output_type": "stream",
     "text": [
      "0.00540463296514\n",
      "0.00540463296515\n",
      "0.00540463296515\n",
      "0.00540463296516\n",
      "0.00540463296516\n",
      "0.00540463296517\n",
      "0.00540463296517\n",
      "0.00540463296518\n",
      "0.00540463296518\n",
      "0.00540463296519\n",
      "0.00540463296519\n"
     ]
    }
   ],
   "source": [
    "#Try backward iteration\n",
    "a = 5\n",
    "n0 = 50\n",
    "n1 = 30\n",
    "\n",
    "for y in np.linspace(0,5,11):\n",
    "    print(yn(a,n0,n1,y))"
   ]
  },
  {
   "cell_type": "markdown",
   "metadata": {},
   "source": [
    "### Summary of the results:\n",
    "\n",
    "- The series converges for the backward iteration, no matter what $a$ is.\n",
    "- The backward iteration is very stable, independent of the start value $y_0$!"
   ]
  }
 ],
 "metadata": {
  "kernelspec": {
   "display_name": "Python 3",
   "language": "python",
   "name": "python3"
  },
  "language_info": {
   "codemirror_mode": {
    "name": "ipython",
    "version": 3
   },
   "file_extension": ".py",
   "mimetype": "text/x-python",
   "name": "python",
   "nbconvert_exporter": "python",
   "pygments_lexer": "ipython3",
   "version": "3.6.0"
  }
 },
 "nbformat": 4,
 "nbformat_minor": 2
}
