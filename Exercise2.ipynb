{
 "cells": [
  {
   "cell_type": "markdown",
   "metadata": {},
   "source": [
    "# Homework 2: Error Analysis of Euler Scheme (20 points)\n",
    "\n",
    "Group Members: Julius Franke (el442, juliusttf@gmail.com), Erik Meister (kd400, erik.meister@me.com), Eugen Dizer (qo452, eugen9898@web.de)\n",
    "\n",
    "Due on Friday, 08.05.2020."
   ]
  },
  {
   "cell_type": "code",
   "execution_count": 1,
   "metadata": {
    "collapsed": true
   },
   "outputs": [],
   "source": [
    "#Load standard libraries\n",
    "import numpy as np   \n",
    "import matplotlib.pyplot as plt   \n",
    "%matplotlib inline"
   ]
  },
  {
   "cell_type": "markdown",
   "metadata": {},
   "source": [
    "## Introduction: The Two-Body Problem\n",
    "\n",
    "Newton’s Equation for the relative motion of two bodies under their mutual gravitational force is \n",
    "\n",
    "$$\\ddot{\\bf{r}} = - \\frac{GM}{r^2}\\frac{\\bf{r}}{r} \\, ,$$\n",
    "\n",
    "where $G$ is the gravitational constant and $M = M1+M2$ the sum of the masses of the two bodies. This second order ordinary differential equation (ODE) can be transformed into two coupled first order ODEs by\n",
    "\n",
    "$$\\dot{\\bf{r}} = {\\bf{v}} \\, , \\qquad \\dot{\\bf{v}} = - \\frac{GM}{r^2}\\frac{\\bf{r}}{r} \\,.$$\n",
    "\n",
    "For numerical studies these equations should be first transformed to dimensionless equations by ${\\bf{s}}={\\bf{r}}/R_0$, $\\tau = t/T_0$ and ${\\bf{w}}={\\bf{v}}/V_0$, where $R_0$ is an arbitrary scaling radius, which should be selected according to the\n",
    "given problem (e.g. initial separation), $T_0 = \\sqrt{R_0^3/GM}$ and $V_0 = \\sqrt{GM/R_0}$.\n",
    "\n",
    "In the following we will numerically solve the two coupled first order ODEs\n",
    "\n",
    "$$\\frac{d{\\bf{s}}}{d\\tau} = {\\bf{w}} \\, , \\qquad \\frac{d{\\bf{w}}}{d\\tau} = - \\frac{{\\bf{s}}}{s^3} \\,.$$"
   ]
  },
  {
   "cell_type": "markdown",
   "metadata": {},
   "source": [
    "## Our Code for the Euler Scheme from the Practice Class"
   ]
  },
  {
   "cell_type": "code",
   "execution_count": 2,
   "metadata": {
    "collapsed": true
   },
   "outputs": [],
   "source": [
    "#Define constants\n",
    "G = 1\n",
    "M1 = 1\n",
    "M2 = 1\n",
    "R0 = 0.5\n",
    "V0 = np.sqrt(G*(M1+M2)/R0)\n",
    "T0 = R0/V0\n",
    "\n",
    "#Initial conditions\n",
    "r0 = np.array([1,0,0])\n",
    "v0 = np.array([0,V0/np.sqrt(2),0])\n",
    "\n",
    "#Time steps\n",
    "dt = 0.0001\n",
    "\n",
    "#Dimensionless quantities\n",
    "d_tau = dt/T0\n",
    "s0 = r0/R0\n",
    "w0 = v0/V0\n",
    "\n",
    "#Time for one orbit\n",
    "def t_orbit(s0, w0):\n",
    "    e_tot = (np.linalg.norm(w0)**2)/2 - 1/np.linalg.norm(s0)\n",
    "    a = - 0.5/e_tot*G*M1*M2\n",
    "    return np.sqrt(4*np.pi**2*a**3/(G*(M1*M2)))\n",
    "T = t_orbit(s0, w0)"
   ]
  },
  {
   "cell_type": "code",
   "execution_count": 3,
   "metadata": {
    "collapsed": false
   },
   "outputs": [],
   "source": [
    "#Forward Euler Scheme\n",
    "def forward_euler(s0, w0, d_tau, T):\n",
    "    tau = np.arange(0,T,d_tau)\n",
    "    s = s0\n",
    "    w = w0\n",
    "    for i in tau:\n",
    "        s1 = s\n",
    "        s = s + w*d_tau\n",
    "        w = w - s1/np.linalg.norm(s1)**3 * d_tau\n",
    "    return s, w"
   ]
  },
  {
   "cell_type": "code",
   "execution_count": 4,
   "metadata": {
    "collapsed": true
   },
   "outputs": [],
   "source": [
    "#For plotting the trajectory\n",
    "def plot_euler_trajectory(s0, w0, d_tau, T):\n",
    "    tau = np.arange(0,T,d_tau)\n",
    "    x = []\n",
    "    y = []\n",
    "    s = s0\n",
    "    w = w0\n",
    "    for i in tau:\n",
    "        x.append(s[0])\n",
    "        y.append(s[1])\n",
    "        \n",
    "        s1 = s\n",
    "        s = s + w*d_tau\n",
    "        w = w - s1/np.linalg.norm(s1)**3 * d_tau\n",
    "    plt.axis('equal')\n",
    "    plt.plot(x,y)\n",
    "    plt.xlabel(r'$x$')\n",
    "    plt.ylabel(r'$y$')"
   ]
  },
  {
   "cell_type": "code",
   "execution_count": 5,
   "metadata": {
    "collapsed": false
   },
   "outputs": [
    {
     "data": {
      "image/png": "[encoded data removed]",
      "text/plain": [
       "<matplotlib.figure.Figure at 0x21596a96fd0>"
      ]
     },
     "metadata": {},
     "output_type": "display_data"
    }
   ],
   "source": [
    "plot_euler_trajectory(s0, w0, d_tau, T)"
   ]
  },
  {
   "cell_type": "code",
   "execution_count": 6,
   "metadata": {
    "collapsed": true
   },
   "outputs": [],
   "source": [
    "#Runge-Lenz-Laplace vector\n",
    "def runge_lenz_vec(s, w):\n",
    "    return np.cross(w,np.cross(s,w))-s/np.linalg.norm(s)"
   ]
  },
  {
   "cell_type": "code",
   "execution_count": 7,
   "metadata": {
    "collapsed": false
   },
   "outputs": [],
   "source": [
    "#Eccentricity, equals 0 for circular orbit\n",
    "def eccentricity(s, w):\n",
    "    return np.linalg.norm(runge_lenz_vec(s,w))/(G*(M1*M2))"
   ]
  },
  {
   "cell_type": "markdown",
   "metadata": {},
   "source": [
    "### a) Choose 3 different eccentricities by varying the initial velocity, and study the set-up for a wide range of different time steps. Make sure that $\\Delta{t}$ spans orders of magnitude. Integrate the 2-body problem for two orbits. "
   ]
  },
  {
   "cell_type": "code",
   "execution_count": 8,
   "metadata": {
    "collapsed": false
   },
   "outputs": [
    {
     "name": "stdout",
     "output_type": "stream",
     "text": [
      "7.24860530535e-06\n"
     ]
    }
   ],
   "source": [
    "#Vary initial velocity\n",
    "v0 = np.array([0,V0/np.sqrt(2),0])\n",
    "w0 = v0/V0\n",
    "\n",
    "#Integrate for 2 orbits\n",
    "s = forward_euler(s0, w0, d_tau, 2*t_orbit(s0, w0))[0]\n",
    "w = forward_euler(s0, w0, d_tau, 2*t_orbit(s0, w0))[1]\n",
    "print(eccentricity(s, w))"
   ]
  },
  {
   "cell_type": "code",
   "execution_count": 9,
   "metadata": {
    "collapsed": false
   },
   "outputs": [
    {
     "name": "stdout",
     "output_type": "stream",
     "text": [
      "0.503763565213\n"
     ]
    }
   ],
   "source": [
    "#Vary initial velocity\n",
    "v0 = np.array([0,1,0])\n",
    "w0 = v0/V0\n",
    "\n",
    "#Integrate for 2 orbits\n",
    "s = forward_euler(s0, w0, d_tau, 2*t_orbit(s0, w0))[0]\n",
    "w = forward_euler(s0, w0, d_tau, 2*t_orbit(s0, w0))[1]\n",
    "print(eccentricity(s, w))"
   ]
  },
  {
   "cell_type": "code",
   "execution_count": 10,
   "metadata": {
    "collapsed": false
   },
   "outputs": [
    {
     "name": "stdout",
     "output_type": "stream",
     "text": [
      "0.797338991776\n"
     ]
    }
   ],
   "source": [
    "#Vary initial velocity\n",
    "v0 = np.array([0,V0/3,0])\n",
    "w0 = v0/V0\n",
    "\n",
    "#Integrate for 2 orbits\n",
    "s = forward_euler(s0, w0, d_tau, 2*t_orbit(s0, w0))[0]\n",
    "w = forward_euler(s0, w0, d_tau, 2*t_orbit(s0, w0))[1]\n",
    "print(eccentricity(s, w))"
   ]
  },
  {
   "cell_type": "code",
   "execution_count": 11,
   "metadata": {
    "collapsed": false
   },
   "outputs": [
    {
     "name": "stdout",
     "output_type": "stream",
     "text": [
      "4.5520978566e-07\n",
      "0.0966245202356\n",
      "0.120340694877\n",
      "0.203016746273\n",
      "0.31758606226\n",
      "0.42147435997\n",
      "0.5207797035\n",
      "0.61866592003\n",
      "0.716806567485\n",
      "0.816773298123\n",
      "0.919286501918\n"
     ]
    }
   ],
   "source": [
    "#Return to circular orbit\n",
    "v0 = np.array([0,V0/np.sqrt(2),0])\n",
    "w0 = v0/V0\n",
    "\n",
    "#Wide range of different time steps\n",
    "for dtau in np.linspace(0.0001,1,11):\n",
    "    s = forward_euler(s0, w0, dtau, 2*t_orbit(s0, w0))[0]\n",
    "    w = forward_euler(s0, w0, dtau, 2*t_orbit(s0, w0))[1]\n",
    "    print(eccentricity(s, w))"
   ]
  },
  {
   "cell_type": "markdown",
   "metadata": {},
   "source": [
    "One can see that the eccentricity grows with larger time steps, as one could expect. With larger time steps the integration becomes less precise and the initial circular orbit gets more and more eccentric.\n",
    "\n",
    "The accuracy of the forward Euler scheme scales with $\\mathcal{O}(\\Delta{t})$."
   ]
  },
  {
   "cell_type": "code",
   "execution_count": 12,
   "metadata": {
    "collapsed": false
   },
   "outputs": [
    {
     "data": {
      "image/png": "[encoded data removed]",
      "text/plain": [
       "<matplotlib.figure.Figure at 0x21596f16198>"
      ]
     },
     "metadata": {},
     "output_type": "display_data"
    }
   ],
   "source": [
    "#2-Body Problem integrated for two orbits\n",
    "plot_euler_trajectory(s0, w0, 0.01, 2*t_orbit(s0, w0))"
   ]
  },
  {
   "cell_type": "markdown",
   "metadata": {},
   "source": [
    "### Plot, in a double-logarithmic fashion, the error in the energy at the end of this orbit as a function of the time step $\\Delta{t}$. "
   ]
  },
  {
   "cell_type": "code",
   "execution_count": 13,
   "metadata": {
    "collapsed": false
   },
   "outputs": [
    {
     "data": {
      "text/plain": [
       "<matplotlib.text.Text at 0x21596ff37b8>"
      ]
     },
     "execution_count": 13,
     "metadata": {},
     "output_type": "execute_result"
    },
    {
     "data": {
      "image/png": "[encoded data removed]",
      "text/plain": [
       "<matplotlib.figure.Figure at 0x21596f4c630>"
      ]
     },
     "metadata": {},
     "output_type": "display_data"
    }
   ],
   "source": [
    "def energy_error(d_tau):\n",
    "    E0 = (np.linalg.norm(w0)**2)/2 - 1/np.linalg.norm(s0)\n",
    "    s = forward_euler(s0, w0, d_tau, T)[0]\n",
    "    w = forward_euler(s0, w0, d_tau, T)[1]\n",
    "    Energy = (np.linalg.norm(w)**2)/2 - 1/np.linalg.norm(s)\n",
    "    return np.abs(Energy-E0)/np.abs(E0)\n",
    "\n",
    "dtau = np.linspace(0.00001,0.1,50)\n",
    "error = []\n",
    "\n",
    "for i in dtau:\n",
    "    error.append(energy_error(i))\n",
    "\n",
    "plt.figure(figsize=(5.0,5.0))\n",
    "plt.loglog(dtau,error)\n",
    "plt.xlabel(r'$\\Delta t / T_0$')\n",
    "plt.ylabel(r'Relative Error')"
   ]
  },
  {
   "cell_type": "markdown",
   "metadata": {},
   "source": [
    "### Discuss the result, is it consistent with what one should expect?"
   ]
  },
  {
   "cell_type": "markdown",
   "metadata": {},
   "source": [
    "With smaller time steps the integration error gets smaller, which we expect since the accuracy of the forward Euler scheme scales with $\\mathcal{O}(\\Delta{t})$."
   ]
  },
  {
   "cell_type": "markdown",
   "metadata": {},
   "source": [
    "### b) Do the same as above, but now employ the leapfrog integrator scheme. How does the result change? "
   ]
  },
  {
   "cell_type": "code",
   "execution_count": 14,
   "metadata": {
    "collapsed": true
   },
   "outputs": [],
   "source": [
    "#Leap Frog Scheme\n",
    "def leap_frog(s0, w0, d_tau, T):\n",
    "    tau = np.arange(0,T,d_tau)\n",
    "    s = s0\n",
    "    w = w0\n",
    "    for i in tau:\n",
    "        w = w - s/np.linalg.norm(s)**3 * d_tau\n",
    "        s = s + w*d_tau\n",
    "    return s, w"
   ]
  },
  {
   "cell_type": "code",
   "execution_count": 15,
   "metadata": {
    "collapsed": true
   },
   "outputs": [],
   "source": [
    "#For plotting the trajectory\n",
    "def plot_frog_trajectory(s0, w0, d_tau, T):\n",
    "    tau = np.arange(0,T,d_tau)\n",
    "    x = []\n",
    "    y = []\n",
    "    s = s0\n",
    "    w = w0\n",
    "    for i in tau:\n",
    "        x.append(s[0])\n",
    "        y.append(s[1])\n",
    "        \n",
    "        w = w - s/np.linalg.norm(s)**3 * d_tau\n",
    "        s = s + w*d_tau\n",
    "    plt.axis('equal')\n",
    "    plt.plot(x,y)\n",
    "    plt.xlabel(r'$x$')\n",
    "    plt.ylabel(r'$y$')"
   ]
  },
  {
   "cell_type": "code",
   "execution_count": 16,
   "metadata": {
    "collapsed": false
   },
   "outputs": [
    {
     "data": {
      "image/png": "[encoded data removed]",
      "text/plain": [
       "<matplotlib.figure.Figure at 0x21597123668>"
      ]
     },
     "metadata": {},
     "output_type": "display_data"
    }
   ],
   "source": [
    "#Integrate with the Leap Frog Scheme\n",
    "plot_frog_trajectory(s0,w0,0.1,T)"
   ]
  },
  {
   "cell_type": "markdown",
   "metadata": {},
   "source": [
    "One can see that the accuracy of the leap frog scheme is way better than the accuracy of the forward Euler scheme. Already with large time step sizes ($\\Delta{\\tau}=0.1$) one gets good results."
   ]
  },
  {
   "cell_type": "code",
   "execution_count": 17,
   "metadata": {
    "collapsed": false
   },
   "outputs": [
    {
     "data": {
      "text/plain": [
       "<matplotlib.text.Text at 0x21596cedfd0>"
      ]
     },
     "execution_count": 17,
     "metadata": {},
     "output_type": "execute_result"
    },
    {
     "data": {
      "image/png": "[encoded data removed]",
      "text/plain": [
       "<matplotlib.figure.Figure at 0x21597109668>"
      ]
     },
     "metadata": {},
     "output_type": "display_data"
    }
   ],
   "source": [
    "def energy_error_frog(d_tau):\n",
    "    E0 = (np.linalg.norm(w0)**2)/2 - 1/np.linalg.norm(s0)\n",
    "    s = leap_frog(s0, w0, d_tau, t_orbit(s0, w0))[0]\n",
    "    w = leap_frog(s0, w0, d_tau, t_orbit(s0, w0))[1]\n",
    "    Energy = (np.linalg.norm(w)**2)/2 - 1/np.linalg.norm(s)\n",
    "    return np.abs(Energy-E0)/np.abs(E0)\n",
    "\n",
    "dtau = np.logspace(-5,0,50)\n",
    "error_frog = []\n",
    "\n",
    "for i in dtau:\n",
    "    error_frog.append(energy_error_frog(i))\n",
    "\n",
    "plt.figure(figsize=(5.0,5.0))\n",
    "plt.loglog(dtau,error_frog)\n",
    "plt.xlabel(r'$\\Delta t / T_0$')\n",
    "plt.ylabel(r'Relative Error')"
   ]
  },
  {
   "cell_type": "markdown",
   "metadata": {},
   "source": [
    "The leap frog scheme is indeed much more accurate. One can reach relative accuracy of $10^{-14}$!\n",
    "\n",
    "The slope also changed, which indicates that the error scales with $\\mathcal{O}(\\Delta{t^3})$. For smaller time steps the integration does not become much more accurate. This leads to an optimal time step size (in this case $\\Delta{\\tau}\\approx 10^{-3}$), where the integration is very accurate and does not take too much time."
   ]
  }
 ],
 "metadata": {
  "kernelspec": {
   "display_name": "Python 3",
   "language": "python",
   "name": "python3"
  },
  "language_info": {
   "codemirror_mode": {
    "name": "ipython",
    "version": 3
   },
   "file_extension": ".py",
   "mimetype": "text/x-python",
   "name": "python",
   "nbconvert_exporter": "python",
   "pygments_lexer": "ipython3",
   "version": "3.6.0"
  }
 },
 "nbformat": 4,
 "nbformat_minor": 4
}
