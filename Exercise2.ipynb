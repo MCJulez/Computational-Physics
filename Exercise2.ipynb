{
 "cells": [
  {
   "cell_type": "markdown",
   "metadata": {},
   "source": [
    "# Homework 2: Error Analysis of Euler Scheme (20 points)\n",
    "\n",
    "Group Members: Julius Franke (el442, juliusttf@gmail.com), Erik Meister (kd400, erik.meister@me.com), Eugen Dizer (qo452, eugen9898@web.de)\n",
    "\n",
    "Due on Friday, 08.05.2020."
   ]
  },
  {
   "cell_type": "code",
   "execution_count": 63,
   "metadata": {
    "collapsed": true
   },
   "outputs": [],
   "source": [
    "#Load standard libraries\n",
    "import numpy as np   \n",
    "import matplotlib.pyplot as plt   \n",
    "%matplotlib inline"
   ]
  },
  {
   "cell_type": "markdown",
   "metadata": {},
   "source": [
    "## Introduction: The Two-Body Problem\n",
    "\n",
    "Newton’s Equation for the relative motion of two bodies under their mutual gravitational force is \n",
    "\n",
    "$$\\ddot{\\bf{r}} = - \\frac{GM}{r^2}\\frac{\\bf{r}}{r} \\, ,$$\n",
    "\n",
    "where $G$ is the gravitational constant and $M = m1+m2$ the sum of the masses of the two bodies. This second order ordinary differential equation (ODE) can be transformed into two coupled first order ODEs by\n",
    "\n",
    "$$\\dot{\\bf{r}} = {\\bf{v}} \\, , \\qquad \\dot{\\bf{v}} = - \\frac{GM}{r^2}\\frac{\\bf{r}}{r} \\,.$$\n",
    "\n",
    "For numerical studies these equations should be first transformed to dimensionless equations by ${\\bf{s}}={\\bf{r}}/R_0$, $\\tau = t/T_0$ and ${\\bf{w}}={\\bf{v}}/V_0$, where $R_0$ is an arbitrary scaling radius, which should be selected according to the\n",
    "given problem (e.g. initial separation), $T_0 = \\sqrt{R_0^3/GM}$ and $V_0 = \\sqrt{GM/R_0}$.\n",
    "\n",
    "In the following we will numerically solve the two coupled first order ODEs\n",
    "\n",
    "$$\\frac{d{\\bf{s}}}{d\\tau} = {\\bf{w}} \\, , \\qquad \\frac{d{\\bf{w}}}{d\\tau} = - \\frac{{\\bf{s}}}{s^3} \\,.$$"
   ]
  },
  {
   "cell_type": "markdown",
   "metadata": {},
   "source": [
    "Maybe some words about the Euler Scheme... How does it work. Define the important quantities like eccentricity, ..."
   ]
  },
  {
   "cell_type": "markdown",
   "metadata": {},
   "source": [
    "## Our Code for the Euler Scheme from the Practice Class"
   ]
  },
  {
   "cell_type": "code",
   "execution_count": 144,
   "metadata": {
    "collapsed": true
   },
   "outputs": [],
   "source": [
    "#Define constants\n",
    "G = 1\n",
    "M1 = 1\n",
    "M2 = 1\n",
    "R0 = 0.5\n",
    "V0 = np.sqrt(G*(M1+M2)/R0)\n",
    "T0 = R0/V0\n",
    "\n",
    "#Initial conditions\n",
    "r0 = np.array([1,0,0])\n",
    "v0 = np.array([0,V0/np.sqrt(2),0])\n",
    "\n",
    "#Time steps\n",
    "dt = 0.0001\n",
    "\n",
    "#Dimensionless quantities\n",
    "d_tau = dt/T0\n",
    "s0 = r0/R0\n",
    "w0 = v0/V0\n",
    "\n",
    "#Integration time\n",
    "T = 20"
   ]
  },
  {
   "cell_type": "code",
   "execution_count": 145,
   "metadata": {
    "collapsed": false
   },
   "outputs": [],
   "source": [
    "#Forward Euler Scheme\n",
    "def forward_euler(s0, w0, d_tau, T):\n",
    "    tau = np.arange(0,T,d_tau)\n",
    "    s = s0\n",
    "    w = w0\n",
    "    for i in tau:\n",
    "        s1 = s\n",
    "        s = s + w*d_tau\n",
    "        w = w - s1/np.linalg.norm(s1)**3 * d_tau\n",
    "    return s, w"
   ]
  },
  {
   "cell_type": "code",
   "execution_count": 146,
   "metadata": {
    "collapsed": false
   },
   "outputs": [
    {
     "data": {
      "text/plain": [
       "(array([ 1.42807541,  1.40548517,  0.        ]),\n",
       " array([-0.4955473 ,  0.50357278,  0.        ]))"
      ]
     },
     "execution_count": 146,
     "metadata": {},
     "output_type": "execute_result"
    }
   ],
   "source": [
    "forward_euler(s0,w0,d_tau,T)"
   ]
  },
  {
   "cell_type": "code",
   "execution_count": 147,
   "metadata": {
    "collapsed": true
   },
   "outputs": [],
   "source": [
    "#For plotting the trajectory\n",
    "def plot_trajectory(s0, w0, d_tau, T):\n",
    "    tau = np.arange(0,T,d_tau)\n",
    "    x = []\n",
    "    y = []\n",
    "    s = s0\n",
    "    w = w0\n",
    "    for i in tau:\n",
    "        x.append(s[0])\n",
    "        y.append(s[1])\n",
    "        \n",
    "        s1 = s\n",
    "        s = s + w*d_tau\n",
    "        w = w - s1/np.linalg.norm(s1)**3 * d_tau\n",
    "    plt.figure(figsize=(5.0,5.0))\n",
    "    plt.plot(x,y)\n",
    "    plt.xlabel(r'$x$')\n",
    "    plt.ylabel(r'$y$')"
   ]
  },
  {
   "cell_type": "code",
   "execution_count": 148,
   "metadata": {
    "collapsed": false
   },
   "outputs": [
    {
     "data": {
      "image/png": "[encoded data removed]",
      "text/plain": [
       "<matplotlib.figure.Figure at 0x29a5f6eb240>"
      ]
     },
     "metadata": {},
     "output_type": "display_data"
    }
   ],
   "source": [
    "plot_trajectory(s0, w0, d_tau, T)"
   ]
  },
  {
   "cell_type": "code",
   "execution_count": 117,
   "metadata": {
    "collapsed": true
   },
   "outputs": [],
   "source": [
    "#Runge-Renz-Laplace vector\n",
    "def runge_lenz_vec(s, w):\n",
    "    return np.cross(w,np.cross(s,w))-s"
   ]
  },
  {
   "cell_type": "code",
   "execution_count": 118,
   "metadata": {
    "collapsed": false
   },
   "outputs": [],
   "source": [
    "#Eccentricity\n",
    "def eccentricity(s, w):\n",
    "    return np.linalg.norm(runge_lenz_vec(s,w))/(G*(M1*M2))"
   ]
  },
  {
   "cell_type": "markdown",
   "metadata": {},
   "source": [
    "### a) Choose 3 different eccentricities by varying the initial velocity, and study the set-up for a wide range of different time steps. Make sure that $\\Delta{t}$ spans orders of magnitude. Integrate the 2-body problem for two orbits. "
   ]
  },
  {
   "cell_type": "code",
   "execution_count": 119,
   "metadata": {
    "collapsed": false
   },
   "outputs": [
    {
     "name": "stdout",
     "output_type": "stream",
     "text": [
      "1.34163597528\n"
     ]
    }
   ],
   "source": [
    "#Vary initial velocity\n",
    "v0 = np.array([0,V0/np.sqrt(2),0])\n",
    "w0 = v0/V0\n",
    "\n",
    "s = forward_euler(s0, w0, d_tau, T)[0]\n",
    "w = forward_euler(s0, w0, d_tau, T)[1]\n",
    "print(eccentricity(s, w))"
   ]
  },
  {
   "cell_type": "code",
   "execution_count": 123,
   "metadata": {
    "collapsed": false
   },
   "outputs": [
    {
     "name": "stdout",
     "output_type": "stream",
     "text": [
      "1.00884571455\n"
     ]
    }
   ],
   "source": [
    "for i in range(1,10,11):\n",
    "    s = forward_euler(s0, w0, i/1000, T)[0]\n",
    "    w = forward_euler(s0, w0, i/1000, T)[1]\n",
    "    print(eccentricity(s, w))"
   ]
  },
  {
   "cell_type": "markdown",
   "metadata": {},
   "source": [
    "### Plot, in a double-logarithmic fashion, the error in the energy at the end of this orbit as a function of the time step $\\Delta{t}$. "
   ]
  },
  {
   "cell_type": "code",
   "execution_count": 115,
   "metadata": {
    "collapsed": false
   },
   "outputs": [
    {
     "data": {
      "text/plain": [
       "<matplotlib.text.Text at 0x296962ed550>"
      ]
     },
     "execution_count": 115,
     "metadata": {},
     "output_type": "execute_result"
    },
    {
     "data": {
      "image/png": "[encoded data removed]",
      "text/plain": [
       "<matplotlib.figure.Figure at 0x296962ff0b8>"
      ]
     },
     "metadata": {},
     "output_type": "display_data"
    }
   ],
   "source": [
    "def energy_error(d_tau):\n",
    "    E0 = (np.linalg.norm(w0)**2)/2 - 1/np.linalg.norm(s0)\n",
    "    s = forward_euler(s0, w0, d_tau, T)[0]\n",
    "    w = forward_euler(s0, w0, d_tau, T)[1]\n",
    "    Energy = (np.linalg.norm(w)**2)/2 - 1/np.linalg.norm(s)\n",
    "    return np.abs(Energy-E0)/np.abs(E0)\n",
    "\n",
    "dtau = np.linspace(0.001,0.1,50)\n",
    "error = []\n",
    "\n",
    "for i in dtau:\n",
    "    error.append(energy_error(i))\n",
    "\n",
    "plt.figure(figsize=(5.0,5.0))\n",
    "plt.loglog(dtau,error)\n",
    "plt.xlabel(r'$\\Delta t$')\n",
    "plt.ylabel(r'Relative Error')"
   ]
  },
  {
   "cell_type": "markdown",
   "metadata": {},
   "source": [
    "### Discuss the result, is it consistent with what one should expect?"
   ]
  },
  {
   "cell_type": "markdown",
   "metadata": {},
   "source": [
    "..."
   ]
  },
  {
   "cell_type": "markdown",
   "metadata": {},
   "source": [
    "### b) Do the same as above, but now employ the leapfrog integrator scheme. How does the result change? "
   ]
  },
  {
   "cell_type": "code",
   "execution_count": null,
   "metadata": {
    "collapsed": true
   },
   "outputs": [],
   "source": [
    "#Code\n"
   ]
  }
 ],
 "metadata": {
  "kernelspec": {
   "display_name": "Python 3",
   "language": "python",
   "name": "python3"
  },
  "language_info": {
   "codemirror_mode": {
    "name": "ipython",
    "version": 3
   },
   "file_extension": ".py",
   "mimetype": "text/x-python",
   "name": "python",
   "nbconvert_exporter": "python",
   "pygments_lexer": "ipython3",
   "version": "3.6.0"
  }
 },
 "nbformat": 4,
 "nbformat_minor": 4
}
