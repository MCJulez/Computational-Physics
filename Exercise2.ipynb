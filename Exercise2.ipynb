{
 "cells": [
  {
   "cell_type": "markdown",
   "metadata": {},
   "source": [
    "# Homework 2: Error Analysis of Euler Scheme (20 points)\n",
    "\n",
    "Group Members: Julius Franke (el442, juliusttf@gmail.com), Erik Meister (kd400, erik.meister@me.com), Eugen Dizer (qo452, eugen9898@web.de)\n",
    "\n",
    "Due on Friday, 08.05.2020."
   ]
  },
  {
   "cell_type": "code",
   "execution_count": 1,
   "metadata": {},
   "outputs": [],
   "source": [
    "#Load standard libraries\n",
    "import numpy as np   \n",
    "import matplotlib.pyplot as plt   \n",
    "%matplotlib inline"
   ]
  },
  {
   "cell_type": "markdown",
   "metadata": {},
   "source": [
    "## Introduction: The Two-Body Problem\n",
    "\n",
    "Newton’s Equation for the relative motion of two bodies under their mutual gravitational force is \n",
    "\n",
    "$$\\ddot{\\bf{r}} = - \\frac{GM}{r^2}\\frac{\\bf{r}}{r} \\, ,$$\n",
    "\n",
    "where $G$ is the gravitational constant and $M = m1+m2$ the sum of the masses of the two bodies. This second order ordinary differential equation (ODE) can be transformed into two coupled first order ODEs by\n",
    "\n",
    "$$\\dot{\\bf{r}} = {\\bf{v}} \\, , \\qquad \\dot{\\bf{v}} = - \\frac{GM}{r^2}\\frac{\\bf{r}}{r} \\,.$$\n",
    "\n",
    "For numerical studies these equations should be first transformed to dimensionless equations by ${\\bf{s}}={\\bf{r}}/R_0$, $\\tau = t/T_0$ and ${\\bf{w}}={\\bf{v}}/V_0$, where $R_0$ is an arbitrary scaling radius, which should be selected according to the\n",
    "given problem (e.g. initial separation), $T_0 = \\sqrt{R_0^3/GM}$ and $V_0 = \\sqrt{GM/R_0}$.\n",
    "\n",
    "In the following we will numerically solve the two coupled first order ODEs\n",
    "\n",
    "$$\\frac{d{\\bf{s}}}{d\\tau} = {\\bf{w}} \\, , \\qquad \\frac{d{\\bf{w}}}{d\\tau} = - \\frac{{\\bf{s}}}{s^3} \\,.$$"
   ]
  },
  {
   "cell_type": "markdown",
   "metadata": {},
   "source": [
    "Maybe some words about the Euler Scheme... How does it work. Define the important quantities like eccentricity, ..."
   ]
  },
  {
   "cell_type": "code",
   "execution_count": null,
   "metadata": {},
   "outputs": [],
   "source": [
    "#Our Code for the Euler Scheme from the Practice Class\n"
   ]
  },
  {
   "cell_type": "markdown",
   "metadata": {},
   "source": [
    "### a) Choose 3 different eccentricities by varying the initial velocity, and study the set-up for a wide range of different time steps. Make sure that $\\Delta{t}$ spans orders of magnitude. Integrate the 2-body problem for two orbits. "
   ]
  },
  {
   "cell_type": "code",
   "execution_count": null,
   "metadata": {},
   "outputs": [],
   "source": [
    "#Code\n"
   ]
  },
  {
   "cell_type": "markdown",
   "metadata": {},
   "source": [
    "### Plot, in a double-logarithmic fashion, the error in the energy at the end of this orbit as a function of the time step $\\Delta{t}$. "
   ]
  },
  {
   "cell_type": "code",
   "execution_count": null,
   "metadata": {},
   "outputs": [],
   "source": [
    "#Code\n"
   ]
  },
  {
   "cell_type": "markdown",
   "metadata": {},
   "source": [
    "### Discuss the result, is it consistent with what one should expect?"
   ]
  },
  {
   "cell_type": "markdown",
   "metadata": {},
   "source": [
    "..."
   ]
  },
  {
   "cell_type": "markdown",
   "metadata": {},
   "source": [
    "### b) Do the same as above, but now employ the leapfrog integrator scheme. How does the result change? "
   ]
  },
  {
   "cell_type": "code",
   "execution_count": null,
   "metadata": {},
   "outputs": [],
   "source": [
    "#Code\n"
   ]
  }
 ],
 "metadata": {
  "kernelspec": {
   "display_name": "Python 3",
   "language": "python",
   "name": "python3"
  },
  "language_info": {
   "codemirror_mode": {
    "name": "ipython",
    "version": 3
   },
   "file_extension": ".py",
   "mimetype": "text/x-python",
   "name": "python",
   "nbconvert_exporter": "python",
   "pygments_lexer": "ipython3",
   "version": "3.7.6"
  }
 },
 "nbformat": 4,
 "nbformat_minor": 4
}
