{
 "cells": [
  {
   "cell_type": "markdown",
   "metadata": {},
   "source": [
    "# Homework 3: Three-Body Problem (20 points)\n",
    "\n",
    "Group Members: Julius Franke (el442, juliusttf@gmail.com), Erik Meister (kd400, erik.meister@me.com), Eugen Dizer (qo452, eugen9898@web.de)\n",
    "\n",
    "Due on Friday, 15.05.2020."
   ]
  },
  {
   "cell_type": "code",
   "execution_count": 53,
   "metadata": {
    "collapsed": true
   },
   "outputs": [],
   "source": [
    "#Load standard libraries\n",
    "import numpy as np   \n",
    "import matplotlib.pyplot as plt   \n",
    "%matplotlib inline"
   ]
  },
  {
   "cell_type": "markdown",
   "metadata": {},
   "source": [
    "## $4^{th}$ Order Runge-Kutta Method (RK4)"
   ]
  },
  {
   "cell_type": "code",
   "execution_count": 54,
   "metadata": {
    "collapsed": true
   },
   "outputs": [],
   "source": [
    "def rk4_step(y0, x0, f, h):\n",
    "    ''' Simple python implementation for one RK4 step. \n",
    "        Inputs:\n",
    "            y_0    - M x 1 numpy array specifying all variables of the ODE at the current time step\n",
    "            x_0    - current time step\n",
    "            f      - function that calculates the derivates of all variables of the ODE\n",
    "            h      - time step size\n",
    "        Output:\n",
    "            yp1 - M x 1 numpy array of variables at time step x0 + h\n",
    "            xp1 - time step x0+h\n",
    "    '''\n",
    "    k1 = h * f(y0)\n",
    "    k2 = h * f(y0 + k1/2)\n",
    "    k3 = h * f(y0 + k2/2)\n",
    "    k4 = h * f(y0 + k3)\n",
    "    \n",
    "    xp1 = x0 + h\n",
    "    yp1 = y0 + 1/6*(k1 + 2*k2 + 2*k3 + k4)\n",
    "    \n",
    "    return(yp1,xp1)\n",
    "\n",
    "def rk4(y0, x0, f, h, n):\n",
    "    ''' Simple implementation of RK4\n",
    "        Inputs:\n",
    "            y_0    - M x 1 numpy array specifying all variables of the ODE at the current time step\n",
    "            x_0    - current time step\n",
    "            f      - function that calculates the derivates of all variables of the ODE\n",
    "            h      - time step size\n",
    "            n      - number of steps\n",
    "        Output:\n",
    "            yn - N+1 x M numpy array with the results of the integration for every time step (includes y0)\n",
    "            xn - N+1 x 1 numpy array with the time step value (includes start x0)\n",
    "    '''\n",
    "    yn = np.zeros((n+1, y0.shape[0]))\n",
    "    xn = np.zeros(n+1)\n",
    "    yn[0,:] = y0\n",
    "    xn[0] = x0\n",
    "    \n",
    "    for n in np.arange(1,n+1,1):\n",
    "        yn[n,:], xn[n] = rk4_step(y0 = yn[n-1,:], x0 = xn[n-1], f = f, h = h)\n",
    "        \n",
    "    return(yn, xn)\n",
    "\n",
    "# Be advised that the integration can take a while for large values of n (e.g >=10^5)."
   ]
  },
  {
   "cell_type": "markdown",
   "metadata": {},
   "source": [
    "## Introduction: The Three-Body Problem\n",
    "\n",
    "The gravitational three-body problem is described by the Newtonian equations of motion:\n",
    "\n",
    "\\begin{align}\n",
    "\\ddot{\\mathbf{r}}_1 &= - G m_2 \\frac{\\mathbf{r}_1 - \\mathbf{r}_2}{\\left\\vert \\mathbf{r}_1 - \\mathbf{r}_2 \\right\\vert^3} - G m_3 \\frac{\\mathbf{r}_1 - \\mathbf{r}_3}{\\left\\vert \\mathbf{r}_1 - \\mathbf{r}_3 \\right\\vert^3} , \\\\\n",
    "\\ddot{\\mathbf{r}}_2 &= - G m_3 \\frac{\\mathbf{r}_2 - \\mathbf{r}_3}{\\left\\vert \\mathbf{r}_2 - \\mathbf{r}_3 \\right\\vert^3} - G m_1 \\frac{\\mathbf{r}_2 - \\mathbf{r}_1}{\\left\\vert \\mathbf{r}_2 - \\mathbf{r}_1 \\right\\vert^3} , \\\\\n",
    "\\ddot{\\mathbf{r}}_3 &= - G m_1 \\frac{\\mathbf{r}_3 - \\mathbf{r}_1}{\\left\\vert \\mathbf{r}_3 - \\mathbf{r}_1 \\right\\vert^3} - G m_2 \\frac{\\mathbf{r}_3 - \\mathbf{r}_2}{\\left\\vert \\mathbf{r}_3 - \\mathbf{r}_2 \\right\\vert^3} ,\n",
    "\\end{align}\n",
    "\n",
    "where $\\mathbf{r}_i = (x_i, y_i)$ is the position vector of the masses $m_i$. To apply the Runge-Kutta Method to solve this system, we transform it to six first order ODEs."
   ]
  },
  {
   "cell_type": "markdown",
   "metadata": {},
   "source": [
    "...."
   ]
  },
  {
   "cell_type": "markdown",
   "metadata": {},
   "source": [
    "### a) In a first step, set the masses of all three bodies to $m_1 = m_2 = m_3 = 1$ and select the following initial conditions for $y(0)$:\n",
    "\n",
    "\\begin{align}\n",
    "(y_1, y_2) &= (-0.97000436, 0.24308753) \\\\\n",
    "(y_3, y_4) &= (-0.46620368, -0.43236573) \\\\\n",
    "(y_5, y_6) &= (0.97000436, -0.24308753) \\\\\n",
    "(y_7, y_8) &= (-0.46620368, -0.43236573) \\\\\n",
    "(y_9, y_{10}) &= (0.0, 0.0) \\\\\n",
    "(y_{11}, y_{12}) &= (0.93240737, 0.86473146)\n",
    "\\end{align}\n",
    "\n",
    "### Here, $y_{1+4i}$ and $y_{2+4i}$ are the initial coordinates and $y_{3+4i}$ and $y_{4+4i}$ the initial velocities for the objects $i = 0, 1$ and $2$. Try to integrate with a step size $h$ between 0.01 and 0.001 and plot the result."
   ]
  },
  {
   "cell_type": "code",
   "execution_count": 55,
   "metadata": {
    "collapsed": false
   },
   "outputs": [],
   "source": [
    "G = 1\n",
    "m1 = 1\n",
    "m2 = 1\n",
    "m3 = 1\n",
    "\n",
    "#Initial conditions\n",
    "y1 = [-0.97000436, 0.24308753]\n",
    "v1 = [-0.46620368, -0.43236573]\n",
    "y2 = [0.97000436, -0.24308753]\n",
    "v2 = [-0.46620368, -0.43236573]\n",
    "y3 = [0.0, 0.0]\n",
    "v3 = [0.93240737, 0.86473146]\n",
    "\n",
    "y0 = np.array(y1 + v1 + y2 + v2 + y3 + v3)\n",
    "\n",
    "#Define norm of a 2-vector\n",
    "def norm_of_vector(x):\n",
    "    return np.sqrt(x[0]**2 + x[1]**2)\n",
    "\n",
    "#Define derivatives of all variables, when getting the M x 1 array of all variables y\n",
    "def derivative_of_y1(y):\n",
    "    v1 = y[2:4]\n",
    "    return list(v1)\n",
    "\n",
    "def derivative_of_v1(y):\n",
    "    y1 = y[0:2]\n",
    "    y2 = y[4:6]\n",
    "    y3 = y[8:10]\n",
    "    return list(-G*m2*(y1 - y2)/norm_of_vector(y1-y2)**3 - G*m3*(y1 - y3)/norm_of_vector(y1-y3)**3)\n",
    "\n",
    "def derivative_of_y2(y):\n",
    "    v2 = y[6:8]\n",
    "    return list(v2)\n",
    "\n",
    "def derivative_of_v2(y):\n",
    "    y1 = y[0:2]\n",
    "    y2 = y[4:6]\n",
    "    y3 = y[8:10]\n",
    "    return list(-G*m3*(y2 - y3)/norm_of_vector(y2-y3)**3 - G*m1*(y2 - y1)/norm_of_vector(y2-y1)**3)\n",
    "\n",
    "def derivative_of_y3(y):\n",
    "    v3 = y[10:12]\n",
    "    return list(v3)\n",
    "\n",
    "def derivative_of_v3(y):\n",
    "    y1 = y[0:2]\n",
    "    y2 = y[4:6]\n",
    "    y3 = y[8:10]\n",
    "    return list(-G*m1*(y3 - y1)/norm_of_vector(y3-y1)**3 - G*m2*(y3 - y2)/norm_of_vector(y3-y2)**3)\n",
    "\n",
    "\n",
    "#Define function that calculates the derivates of all variables of the ODE\n",
    "def f(y):\n",
    "    return np.array(derivative_of_y1(y) + derivative_of_v1(y) + derivative_of_y2(y) + derivative_of_v2(y) + derivative_of_y3(y) + derivative_of_v3(y))"
   ]
  },
  {
   "cell_type": "markdown",
   "metadata": {},
   "source": [
    "### Anmerkung: Um den Code noch schöner und kürzer zu machen, könnte man z.B. in der Funktion f(y) die y1 = y[0:2], v1 = y[2:4], ... extrahieren und damit die obigen derivatives definieren, dann bräuchte man keine Listen auszugeben, sondern gleich Vektoren..."
   ]
  },
  {
   "cell_type": "code",
   "execution_count": 22,
   "metadata": {
    "collapsed": false
   },
   "outputs": [
    {
     "data": {
      "text/plain": [
       "(array([[-0.97000436,  0.24308753, -0.46620368, -0.43236573,  0.97000436,\n",
       "         -0.24308753, -0.46620368, -0.43236573,  0.        ,  0.        ,\n",
       "          0.93240737,  0.86473146],\n",
       "        [-1.01083294,  0.19863434, -0.35304728, -0.45403735,  0.9170559 ,\n",
       "         -0.28441771, -0.5953306 , -0.38988464,  0.09377704,  0.08578337,\n",
       "          0.9483779 ,  0.843922  ],\n",
       "        [-1.04111791,  0.15268182, -0.25496207, -0.46354947,  0.85051256,\n",
       "         -0.31999679, -0.73699937, -0.31532478,  0.19060535,  0.16731497,\n",
       "          0.99196145,  0.77887425],\n",
       "        [-1.06223254,  0.1061316 , -0.16907498, -0.46676337,  0.76959457,\n",
       "         -0.34602423, -0.88020346, -0.19721307,  0.29263797,  0.23989264,\n",
       "          1.04927845,  0.66397644],\n",
       "        [-1.07521994,  0.05941574, -0.09179275, -0.46731575,  0.675097  ,\n",
       "         -0.35779548, -1.00454483, -0.0303953 ,  0.40012294,  0.29837974,\n",
       "          1.09633759,  0.49771105],\n",
       "        [-1.08075205,  0.01268839, -0.01933684, -0.46721739,  0.57015927,\n",
       "         -0.35079947, -1.08521847,  0.17475076,  0.51059278,  0.33811109,\n",
       "          1.10455532,  0.29246663]]),\n",
       " array([ 0. ,  0.1,  0.2,  0.3,  0.4,  0.5]))"
      ]
     },
     "execution_count": 22,
     "metadata": {},
     "output_type": "execute_result"
    }
   ],
   "source": [
    "rk4(y0, 0, f, 0.1, 5)"
   ]
  },
  {
   "cell_type": "markdown",
   "metadata": {},
   "source": [
    "### b) Now consider a different problem. Choose the masses of the three bodies to be $m_1 = 3$, $m_2 = 4$ and $m_3 = 5$, and place them at the corners of a right triangle (one angle is $90^{\\circ}$) with edge lengths of $l_1 = 3$, $l_2 = 4$ and $l_3 = 5$, such that $m_1$ is opposite to the edge $l_1$, $m_2$ opposite to $l_2$, and $m_3$ opposite to $l_3$. Set the initial velocities to zero. This is the Meissel-Burrau problem. We recommend to place the origin of your coordinate system into the center of mass of the system."
   ]
  },
  {
   "cell_type": "code",
   "execution_count": null,
   "metadata": {
    "collapsed": true
   },
   "outputs": [],
   "source": [
    "#Code\n"
   ]
  },
  {
   "cell_type": "markdown",
   "metadata": {},
   "source": [
    "### Use the Runge-Kutta-4 integrator to follow the time evolution of the system until it dissolves. Record the points in time when two bodies have minimum separation and store this data in a file. Investigate the behavior of the system for different integration steps $h$, starting with $h = 0.1$. How small does $h$ need to be in order to obtain reliable estimates for the time of the first five closest encounters. "
   ]
  },
  {
   "cell_type": "code",
   "execution_count": null,
   "metadata": {
    "collapsed": true
   },
   "outputs": [],
   "source": [
    "#Code\n"
   ]
  },
  {
   "cell_type": "markdown",
   "metadata": {},
   "source": [
    "### Plot for different step sizes $h$: \n",
    "\n",
    "### (i) the trajectories of the three bodies in the orbital plane.\n",
    "\n",
    "### (ii) the mutual distances of the three bodies in logarithmic scaling.\n",
    "\n",
    "### (iii) the error of the total energy of the system in logarithmic scaling as function of time (linear). "
   ]
  },
  {
   "cell_type": "code",
   "execution_count": null,
   "metadata": {
    "collapsed": true
   },
   "outputs": [],
   "source": [
    "#Code\n"
   ]
  },
  {
   "cell_type": "code",
   "execution_count": null,
   "metadata": {
    "collapsed": true
   },
   "outputs": [],
   "source": [
    "#Plot settings\n",
    "\n",
    "plt.title(title)\n",
    "plt.xlabel(xlabel)\n",
    "plt.ylabel(ylabel)\n",
    "#plt.xscale('log')\n",
    "plt.xlim(xlim)\n",
    "plt.ylim(ylim)\n",
    "plt.plot(x, y, linewidth=1.0, color='' linestyle=\"-\", label='')\n",
    "#plt.grid(True)\n",
    "plt.legend()\n",
    "plt.show()"
   ]
  }
 ],
 "metadata": {
  "kernelspec": {
   "display_name": "Python 3",
   "language": "python",
   "name": "python3"
  },
  "language_info": {
   "codemirror_mode": {
    "name": "ipython",
    "version": 3
   },
   "file_extension": ".py",
   "mimetype": "text/x-python",
   "name": "python",
   "nbconvert_exporter": "python",
   "pygments_lexer": "ipython3",
   "version": "3.6.0"
  }
 },
 "nbformat": 4,
 "nbformat_minor": 4
}
