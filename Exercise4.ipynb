{
 "cells": [
  {
   "cell_type": "markdown",
   "metadata": {},
   "source": [
    "# Homework 4: Neutrons in a gravitational field (20 points)\n",
    "\n",
    "Group Members: Julius Franke (el442, juliusttf@gmail.com), Erik Meister (kd400, erik.meister@me.com), Eugen Dizer (qo452, eugen9898@web.de)\n",
    "\n",
    "Due on Friday, 22.05.2020."
   ]
  },
  {
   "cell_type": "code",
   "execution_count": 1,
   "metadata": {
    "collapsed": true
   },
   "outputs": [],
   "source": [
    "#Load standard libraries\n",
    "import numpy as np   \n",
    "import matplotlib.pyplot as plt   \n",
    "%matplotlib inline"
   ]
  },
  {
   "cell_type": "markdown",
   "metadata": {},
   "source": [
    "Another interesting application of the Numerov algorithm is the calculation of stationary states $\\Psi(z)$ of neutrons in the gravitational field of the Earth. For small changes in the vertical amplitude $z$ the potential can be expressed as $V(z) = mgz$ for $z \\geq 0$. Place a perfectly reflecting horizontal mirror at $z = 0$ so that $V(z) = \\infty$ for $z < 0$. Neutrons that all onto the mirror are reflected upwards, and so we only seek solutions for $z \\geq 0$. After a proper choice of length and energy units the Schrödinger equation for this system can be rewritten as\n",
    "\n",
    "$$ \\psi''(x) + (\\varepsilon - x)\\psi(x) = 0 ,$$\n",
    "\n",
    "where $x = z/z_0$ with $z_0 = \\left(\\frac{\\hbar^2}{2 m^2 g}\\right)^{1/3}$ and $\\varepsilon = E/E_0$ with $E_0 = \\frac{\\hbar^2}{2 z_0^2 m}$. For more information, have a look at the [Nature Paper](https://www.nature.com/articles/415297a.pdf) or the [Article in German](https://www.uni-heidelberg.de/presse/ruca/ruca03-2/schwer.html)."
   ]
  },
  {
   "cell_type": "code",
   "execution_count": null,
   "metadata": {
    "collapsed": true
   },
   "outputs": [],
   "source": [
    "#Code\n"
   ]
  },
  {
   "cell_type": "markdown",
   "metadata": {},
   "source": [
    "### 1. Use the Numerov method to solve this differential equation. Choose some values of $\\varepsilon$ and plot the solution from $x = 0$ to $x \\gg \\varepsilon$ (i.e. well into the classically forbidden zone). We are interested in the asymptotic behavior of the solution for large $x$, i.e. whether it goes to positive infinity or negative. \n",
    "\n",
    "### Show (plot) two solutions obtained from your program (for two values of $\\varepsilon$), one with positive and one with negative asymptotic behaviour."
   ]
  },
  {
   "cell_type": "code",
   "execution_count": null,
   "metadata": {
    "collapsed": true
   },
   "outputs": [],
   "source": [
    "#Code\n"
   ]
  },
  {
   "cell_type": "markdown",
   "metadata": {},
   "source": [
    "### 2. The eigenvalues εn of Schrödinger’s equation belong to normalizable eigenfunctions with $\\psi(x) \\rightarrow 0$ for $x \\rightarrow \\infty$. It means that while varying $\\varepsilon_n$ from smaller to larger values, the function $\\psi(x)$ for $x \\rightarrow \\infty$ changes sign. Use this property to determine the eigenvalues $\\varepsilon_n$ of the first three bound states to 2 decimals behind the comma."
   ]
  },
  {
   "cell_type": "code",
   "execution_count": null,
   "metadata": {
    "collapsed": true
   },
   "outputs": [],
   "source": [
    "#Code\n"
   ]
  }
 ],
 "metadata": {
  "kernelspec": {
   "display_name": "Python 3",
   "language": "python",
   "name": "python3"
  },
  "language_info": {
   "codemirror_mode": {
    "name": "ipython",
    "version": 3
   },
   "file_extension": ".py",
   "mimetype": "text/x-python",
   "name": "python",
   "nbconvert_exporter": "python",
   "pygments_lexer": "ipython3",
   "version": "3.6.0"
  }
 },
 "nbformat": 4,
 "nbformat_minor": 4
}
