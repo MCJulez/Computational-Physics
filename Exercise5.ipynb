{
 "cells": [
  {
   "cell_type": "markdown",
   "metadata": {},
   "source": [
    "# Homework 5: Tridiagonal matrices (20 points)\n",
    "\n",
    "Group Members: Julius Franke (el442, juliusttf@gmail.com), Erik Meister (kd400, erik.meister@me.com), Eugen Dizer (qo452, eugen9898@web.de)\n",
    "\n",
    "Due on Friday, 29.05.2020."
   ]
  },
  {
   "cell_type": "code",
   "execution_count": 78,
   "metadata": {
    "collapsed": true
   },
   "outputs": [],
   "source": [
    "#Load standard libraries\n",
    "import numpy as np   \n",
    "import matplotlib.pyplot as plt   \n",
    "%matplotlib inline"
   ]
  },
  {
   "cell_type": "markdown",
   "metadata": {},
   "source": [
    "Consider the following tridiagonal $N \\times N$ matrix equation\n",
    "\n",
    "\\begin{gather}\n",
    "\\begin{pmatrix}\n",
    "b_1 & c_1 & 0 & 0 & \\cdots & 0 & 0 & 0 & 0 \\\\\n",
    "a_2 & b_2 & c_2 & 0 & \\cdots & 0 & 0 & 0 & 0 \\\\\n",
    "0 & a_3 & b_3 & c_3 & \\cdots & 0 & 0 & 0 & 0 \\\\\n",
    "\\vdots & \\vdots & \\vdots & \\vdots &   & \\vdots & \\vdots & \\vdots & \\vdots \\\\\n",
    "0 & 0 & 0 & 0 & \\cdots & a_{N-2} & b_{N-2} & c_{N-2} & 0 \\\\\n",
    "0 & 0 & 0 & 0 & \\cdots & 0 & a_{N-1} & b_{N-1} & c_{N-1} \\\\\n",
    "0 & 0 & 0 & 0 & \\cdots & 0 & 0 & a_N & b_N \n",
    "\\end{pmatrix}\n",
    "\\begin{pmatrix}\n",
    "x_1  \\\\\n",
    "x_2  \\\\\n",
    "x_3  \\\\\n",
    "\\vdots \\\\\n",
    "x_{N-2} \\\\\n",
    "x_{N-1} \\\\\n",
    "x_N  \n",
    "\\end{pmatrix}\n",
    "=\n",
    "\\begin{pmatrix}\n",
    "y_1  \\\\\n",
    "y_2  \\\\\n",
    "y_3  \\\\\n",
    "\\vdots \\\\\n",
    "y_{N-2} \\\\\n",
    "y_{N-1} \\\\\n",
    "y_N  \n",
    "\\end{pmatrix}.\n",
    "\\end{gather}"
   ]
  },
  {
   "cell_type": "markdown",
   "metadata": {},
   "source": [
    "### 1. Derive the iterative expressions for Gaussian elimination, in a form that can be directly implemented as a numerical subroutine. Do not apply pivoting here, because in the special case of tridiagonal matrix equations pivoting is rarely necessary in practice. "
   ]
  },
  {
   "cell_type": "code",
   "execution_count": null,
   "metadata": {
    "collapsed": true
   },
   "outputs": [],
   "source": []
  },
  {
   "cell_type": "markdown",
   "metadata": {},
   "source": [
    "### 2.  Derive the iterative expressions for backward substitution, also for implementation as a numerical subroutine. "
   ]
  },
  {
   "cell_type": "code",
   "execution_count": null,
   "metadata": {
    "collapsed": true
   },
   "outputs": [],
   "source": []
  },
  {
   "cell_type": "markdown",
   "metadata": {},
   "source": [
    "### 3. Program a subroutine that, given the values $a_2 \\cdots a_N$, $b_1 \\cdots b_N$, $c_1 \\cdots c_{N-1}$ and $y_1 \\cdots y_N$, finds the solution vector given by $x_1 \\cdots x_N$."
   ]
  },
  {
   "cell_type": "code",
   "execution_count": null,
   "metadata": {
    "collapsed": true
   },
   "outputs": [],
   "source": []
  },
  {
   "cell_type": "markdown",
   "metadata": {},
   "source": [
    "### 4. Take $N = 10$, and set all $a$ values to $-1$, all $b$ values to $3$, all $c$ values to $-1$ and all $y$ values to $0.2$. What is the solution for the $x_1 \\cdots x_N$? "
   ]
  },
  {
   "cell_type": "code",
   "execution_count": null,
   "metadata": {
    "collapsed": true
   },
   "outputs": [],
   "source": []
  },
  {
   "cell_type": "markdown",
   "metadata": {},
   "source": [
    "### 5. Put your solution $x_1 \\cdots x_N$ back into the original matrix equation above and find how much the result deviates from the original right-hand-side $y_1 \\cdots y_N$. Is this satisfactory?"
   ]
  },
  {
   "cell_type": "code",
   "execution_count": null,
   "metadata": {
    "collapsed": true
   },
   "outputs": [],
   "source": []
  }
 ],
 "metadata": {
  "kernelspec": {
   "display_name": "Python 3",
   "language": "python",
   "name": "python3"
  },
  "language_info": {
   "codemirror_mode": {
    "name": "ipython",
    "version": 3
   },
   "file_extension": ".py",
   "mimetype": "text/x-python",
   "name": "python",
   "nbconvert_exporter": "python",
   "pygments_lexer": "ipython3",
   "version": "3.6.0"
  }
 },
 "nbformat": 4,
 "nbformat_minor": 4
}
