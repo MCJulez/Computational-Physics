{
 "cells": [
  {
   "cell_type": "markdown",
   "metadata": {},
   "source": [
    "# Homework 6: Perturbed QM Oscillator (20 points)\n",
    "\n",
    "Group Members: Julius Franke (el442, juliusttf@gmail.com), Erik Meister (kd400, erik.meister@me.com), Eugen Dizer (qo452, eugen9898@web.de)\n",
    "\n",
    "Due on Friday, 05.06.2020."
   ]
  },
  {
   "cell_type": "code",
   "execution_count": 1,
   "metadata": {
    "collapsed": false
   },
   "outputs": [],
   "source": [
    "#Load standard libraries\n",
    "import numpy as np   \n",
    "import matplotlib.pyplot as plt\n",
    "from scipy.linalg import eigh\n",
    "%matplotlib inline"
   ]
  },
  {
   "cell_type": "markdown",
   "metadata": {},
   "source": [
    "Calculate the eigenvalues of the perturbed quantum mechanical harmonic oscillator for $n = 0 \\dots 9$ by approximating the operators in Hilbert space by matrices with finite dimension in the range $N = 15 \\dots 30$.\n",
    "\n",
    "The dimensionless Hamiltonian reads\n",
    "\n",
    "\\begin{align}\n",
    "h = \\frac{H}{\\hbar \\omega} &= \\left( \\frac{1}{2} \\Pi^2 + \\frac{1}{2} Q^2 + \\lambda Q^4 \\right) \\\\\n",
    "\\left(h\\right)_{nm} &= \\left(h_0\\right)_{nm} + \\lambda \\left(Q^4\\right)_{nm}\n",
    "\\end{align}\n",
    "\n",
    "where $\\left(h_0\\right)_{nm} = \\left(n + \\frac{1}{2}\\right) \\delta_{nm}$ is the unperturbed Hamiltonian."
   ]
  },
  {
   "cell_type": "markdown",
   "metadata": {},
   "source": [
    "### 1. Determine the matrix form of $Q^4$ using\n",
    "### $$Q_{nm} = \\frac{1}{\\sqrt{2}} \\left(\\sqrt{n+1} \\delta_{n, m-1} + \\sqrt{n} \\delta_{n, m+1} \\right) .$$"
   ]
  },
  {
   "cell_type": "markdown",
   "metadata": {},
   "source": [
    "The operator $Q$ can be written in terms of creation an annihilation operators, $a^{\\dagger}$ and $a$, as follows:\n",
    "\n",
    "$$ Q = \\frac{1}{\\sqrt{2}} \\left(a + a^{\\dagger} \\right) .$$\n",
    "\n",
    "With the commutator relations $\\left[a , a^{\\dagger}\\right] = 1$, $\\left[a , N\\right] = a$ and $\\left[a^{\\dagger} , N\\right] = - a^{\\dagger}$, where $N = a^{\\dagger} a$ is the number operator, one obtains\n",
    "\n",
    "$$Q^2 = \\frac{1}{2} \\left( a^2 + 2N + 1 + \\left(a^{\\dagger}\\right)^2 \\right)$$\n",
    "and finally\n",
    "$$Q^4 = \\frac{1}{4} \\left( a^4 + (4N + 6)a^2 + (6N^2 + 6N + 3) + (4N - 2)\\left(a^{\\dagger}\\right)^2 + \\left(a^{\\dagger}\\right)^4 \\right).$$\n",
    "In matrix form this is\n",
    "\\begin{align}\n",
    "\\left(Q^4\\right)_{nm} = \\frac{1}{4} \\Big( &\\sqrt{(n+1)(n+2)(n+3)(n+4)} \\ \\delta_{n, m-4} \\\\\n",
    "&+ (4n + 6)\\sqrt{(n+1)(n+2)} \\ \\delta_{n, m-2} \\\\\n",
    "&+ (6n^2 + 6n + 3) \\ \\delta_{n,m} \\\\\n",
    "&+ (4n - 2)\\sqrt{n(n-1)} \\ \\delta_{n, m+2}  \\\\\n",
    "&+ \\sqrt{n(n-1)(n-2)(n-3)} \\ \\delta_{n, m+4} \\Big).\n",
    "\\end{align}"
   ]
  },
  {
   "cell_type": "code",
   "execution_count": 2,
   "metadata": {
    "collapsed": false
   },
   "outputs": [],
   "source": [
    "#Implementation of h for arbitrary matrix size N\n",
    "def unperturbed_hamiltonian(N):\n",
    "    matrix = np.zeros(shape = (N,N))\n",
    "    for i in range(N):\n",
    "        matrix[i][i] = i + 1/2\n",
    "\n",
    "    return matrix\n",
    "\n",
    "#Implementation of Q\n",
    "def Q(N):\n",
    "    matrix = np.zeros(shape = (N,N))\n",
    "    for i in range(N-1):\n",
    "        matrix[i][i+1] = np.sqrt(i+1)\n",
    "        matrix[i+1][i] = np.sqrt(i+1)\n",
    "\n",
    "    return matrix / np.sqrt(2)"
   ]
  },
  {
   "cell_type": "markdown",
   "metadata": {},
   "source": [
    "One can obtain the matrix representation of $Q^4$ just by taking the matrix $Q$ to the power of 4:"
   ]
  },
  {
   "cell_type": "code",
   "execution_count": 3,
   "metadata": {
    "collapsed": true
   },
   "outputs": [],
   "source": [
    "#Simple way to get Q^4 directly out of Q\n",
    "def Q4(N):\n",
    "    N += 2\n",
    "    Q2 = np.matmul(Q(N),Q(N))\n",
    "    Q4 = np.matmul(Q2,Q2)\n",
    "\n",
    "    return Q4[:-2,:-2]"
   ]
  },
  {
   "cell_type": "markdown",
   "metadata": {},
   "source": [
    "Due to the finite matrix size, one gets some artefacts at the border of the matrix, so one has the shorten the output. But in general this leads to the same result as the implementation of $Q^4$ via the analytic formula:"
   ]
  },
  {
   "cell_type": "code",
   "execution_count": 4,
   "metadata": {
    "collapsed": true
   },
   "outputs": [],
   "source": [
    "#Q^4 out of the calculation with a and a*\n",
    "def Q4_formula(N):\n",
    "    matrix = np.zeros(shape = (N,N))\n",
    "    for i in range(N):\n",
    "        matrix[i][i] = 6*i**2 + 6*i + 3\n",
    "    for i in range(N-2):\n",
    "        matrix[i][i+2] = (4*i + 6) * np.sqrt((i+1)*(i+2))\n",
    "        matrix[i+2][i] = (4*i + 6) * np.sqrt((i+1)*(i+2))\n",
    "    for i in range(N-4):\n",
    "        matrix[i][i+4] = np.sqrt((i+1)*(i+2)*(i+3)*(i+4))\n",
    "        matrix[i+4][i] = np.sqrt((i+1)*(i+2)*(i+3)*(i+4))\n",
    "\n",
    "    return matrix / 4"
   ]
  },
  {
   "cell_type": "markdown",
   "metadata": {},
   "source": [
    "The matrix representation of the full Hamiltonian is thus given by:"
   ]
  },
  {
   "cell_type": "code",
   "execution_count": 5,
   "metadata": {
    "collapsed": true
   },
   "outputs": [],
   "source": [
    "def hamiltonian(lamb, N):\n",
    "    return unperturbed_hamiltonian(N) + lamb * Q4_formula(N)"
   ]
  },
  {
   "cell_type": "markdown",
   "metadata": {},
   "source": [
    "### 2. Compute the eigenvalues of $(h)_{nm}$ for the parameter $\\lambda = 0.1$ as function of the matrix size $(N = 15 \\dots 30)$. Demonstrate that your program works properly, just listing the eigenvalues is not sufficient."
   ]
  },
  {
   "cell_type": "code",
   "execution_count": 6,
   "metadata": {
    "collapsed": false
   },
   "outputs": [
    {
     "data": {
      "image/png": "[encoded data removed]",
      "text/plain": [
       "<matplotlib.figure.Figure at 0x28965ce26a0>"
      ]
     },
     "metadata": {},
     "output_type": "display_data"
    }
   ],
   "source": [
    "#Calculate the eigenvalues for matrix size N and lambda = 0.1\n",
    "def eigenvalue(N):\n",
    "    return eigh(hamiltonian(0.1, N))[0]\n",
    "\n",
    "#Take the first 10 eigenvalues for each matrix size N between 15 and 30\n",
    "eigenvalues = []\n",
    "for i in range(15, 31):\n",
    "    eigenvalues.append(eigenvalue(i)[:10])\n",
    "\n",
    "eigenvalues = np.array(eigenvalues)\n",
    "\n",
    "N = np.linspace(15, 30, 16)\n",
    "for i in range(10):\n",
    "    plt.plot(N, eigenvalues[:,i], label = \"n = {}\".format(i))\n",
    "\n",
    "plt.title(\"First 9 eigenvalues as function of matrix size\")\n",
    "plt.xlabel(\"Matrix Size N\")\n",
    "plt.legend(bbox_to_anchor=(1, 1))\n",
    "plt.show()"
   ]
  },
  {
   "cell_type": "markdown",
   "metadata": {},
   "source": [
    "The first 10 eigenvalues are:"
   ]
  },
  {
   "cell_type": "code",
   "execution_count": 7,
   "metadata": {
    "collapsed": false
   },
   "outputs": [
    {
     "name": "stdout",
     "output_type": "stream",
     "text": [
      "[  0.55914633   1.76950264   3.13862431   4.62888281   6.2203009\n",
      "   7.89976723   9.65784064  11.4873175   13.38247933  15.33868582]\n"
     ]
    }
   ],
   "source": [
    "print(eigenvalue(30)[:10])"
   ]
  },
  {
   "cell_type": "markdown",
   "metadata": {},
   "source": [
    "To demonstrate that the program works properly consider both sides of the eigenvalue equation: $h \\psi = \\varepsilon \\psi$."
   ]
  },
  {
   "cell_type": "code",
   "execution_count": 8,
   "metadata": {
    "collapsed": false
   },
   "outputs": [],
   "source": [
    "#Choose lambda = 0.1 and N = 4. Demonstrate for the 1st eigenvalue.\n",
    "matrix = hamiltonian(0.1, 4)\n",
    "eigenval = eigh(matrix)[0][1]\n",
    "eigenvec = eigh(matrix)[1][:,1]"
   ]
  },
  {
   "cell_type": "code",
   "execution_count": 9,
   "metadata": {
    "collapsed": false
   },
   "outputs": [
    {
     "data": {
      "text/plain": [
       "array([ 0.        , -1.74592707,  0.        ,  0.29665452])"
      ]
     },
     "execution_count": 9,
     "metadata": {},
     "output_type": "execute_result"
    }
   ],
   "source": [
    "np.matmul(matrix, eigenvec)"
   ]
  },
  {
   "cell_type": "code",
   "execution_count": 10,
   "metadata": {
    "collapsed": false
   },
   "outputs": [
    {
     "data": {
      "text/plain": [
       "array([ 0.        , -1.74592707,  0.        ,  0.29665452])"
      ]
     },
     "execution_count": 10,
     "metadata": {},
     "output_type": "execute_result"
    }
   ],
   "source": [
    "eigenval * eigenvec"
   ]
  },
  {
   "cell_type": "markdown",
   "metadata": {},
   "source": [
    "They coincide indeed!"
   ]
  },
  {
   "cell_type": "markdown",
   "metadata": {},
   "source": [
    "Although it has some problems with larger vectors and very small numbers:"
   ]
  },
  {
   "cell_type": "code",
   "execution_count": 11,
   "metadata": {
    "collapsed": true
   },
   "outputs": [],
   "source": [
    "matrix = hamiltonian(0.1, 10)\n",
    "eigenval = eigh(matrix)[0][1]\n",
    "eigenvec = eigh(matrix)[1][:,1]"
   ]
  },
  {
   "cell_type": "code",
   "execution_count": 12,
   "metadata": {
    "collapsed": false
   },
   "outputs": [
    {
     "name": "stdout",
     "output_type": "stream",
     "text": [
      "[ -4.25668881e-16  -1.74303346e+00  -5.29792232e-15   3.04383239e-01\n",
      "   3.73369659e-15  -9.24936594e-03   1.44781430e-16  -1.58016563e-02\n",
      "   2.06962047e-15   5.94612392e-03]\n"
     ]
    }
   ],
   "source": [
    "print(np.matmul(matrix, eigenvec))"
   ]
  },
  {
   "cell_type": "code",
   "execution_count": 13,
   "metadata": {
    "collapsed": false
   },
   "outputs": [
    {
     "name": "stdout",
     "output_type": "stream",
     "text": [
      "[ -4.64158363e-16  -1.74303346e+00  -3.14329111e-15   3.04383239e-01\n",
      "   1.47341771e-15  -9.24936594e-03  -2.94683542e-16  -1.58016563e-02\n",
      "   1.96455695e-16   5.94612392e-03]\n"
     ]
    }
   ],
   "source": [
    "print(eigenval * eigenvec)"
   ]
  },
  {
   "cell_type": "markdown",
   "metadata": {},
   "source": [
    "### 3. Calculate the eigenvalues analytically using the linearized form of the equation, i.e. consider only the terms on the diagonal."
   ]
  },
  {
   "cell_type": "markdown",
   "metadata": {},
   "source": [
    "Take the diagonal elements of $h_0$ and $Q^4$. The eigenvalues are then just the diagonal entries:"
   ]
  },
  {
   "cell_type": "code",
   "execution_count": 14,
   "metadata": {
    "collapsed": false
   },
   "outputs": [
    {
     "name": "stdout",
     "output_type": "stream",
     "text": [
      "[0.575, 1.875, 3.475, 5.375, 7.575, 10.075, 12.875, 15.975, 19.375, 23.075000000000003]\n"
     ]
    }
   ],
   "source": [
    "eigenvals = []\n",
    "\n",
    "for i in range(10):\n",
    "    h0 = i + 1/2\n",
    "    q4 = 0.1*(6*i**2 + 6*i +3)/4\n",
    "    eigenvals.append(h0 + q4)\n",
    "\n",
    "print(eigenvals)"
   ]
  },
  {
   "cell_type": "markdown",
   "metadata": {},
   "source": [
    "In comparison, the numerically calculated eigenvalues with the full Hamiltonian:"
   ]
  },
  {
   "cell_type": "code",
   "execution_count": 15,
   "metadata": {
    "collapsed": false
   },
   "outputs": [
    {
     "name": "stdout",
     "output_type": "stream",
     "text": [
      "[  0.55914633   1.76950264   3.13862431   4.62888281   6.2203009\n",
      "   7.89976723   9.65784064  11.4873175   13.38247933  15.33868582]\n"
     ]
    }
   ],
   "source": [
    "print(eigenvalue(30)[:10])"
   ]
  },
  {
   "cell_type": "markdown",
   "metadata": {},
   "source": [
    "One can see that the approximation is relatively good for the first few eigenvalues but fails more and more for larger eigenvalues. This is due to the relatively large $\\lambda$ value. The smaller $\\lambda$, the better is the perturbative approach."
   ]
  }
 ],
 "metadata": {
  "kernelspec": {
   "display_name": "Python 3",
   "language": "python",
   "name": "python3"
  },
  "language_info": {
   "codemirror_mode": {
    "name": "ipython",
    "version": 3
   },
   "file_extension": ".py",
   "mimetype": "text/x-python",
   "name": "python",
   "nbconvert_exporter": "python",
   "pygments_lexer": "ipython3",
   "version": "3.6.0"
  }
 },
 "nbformat": 4,
 "nbformat_minor": 4
}
